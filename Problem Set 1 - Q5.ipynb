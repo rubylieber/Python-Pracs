{
 "cells": [
  {
   "cell_type": "code",
   "execution_count": 1,
   "id": "6e406ebf",
   "metadata": {},
   "outputs": [],
   "source": [
    "import pandas as pd # This package will manage and store our data into dataframes \n",
    "import xlrd # This package allows us to read .xls files "
   ]
  },
  {
   "cell_type": "code",
   "execution_count": 2,
   "id": "06873db8",
   "metadata": {},
   "outputs": [],
   "source": [
    "# Read in data from excel sheet \n",
    "data = pd.read_excel('eddy correlation data.xlsx', index_col=0) # NOTE: will need to change file path depending on where excel sheet is stored "
   ]
  },
  {
   "cell_type": "code",
   "execution_count": 3,
   "id": "25ef80dd",
   "metadata": {},
   "outputs": [
    {
     "data": {
      "text/html": [
       "<div>\n",
       "<style scoped>\n",
       "    .dataframe tbody tr th:only-of-type {\n",
       "        vertical-align: middle;\n",
       "    }\n",
       "\n",
       "    .dataframe tbody tr th {\n",
       "        vertical-align: top;\n",
       "    }\n",
       "\n",
       "    .dataframe thead th {\n",
       "        text-align: right;\n",
       "    }\n",
       "</style>\n",
       "<table border=\"1\" class=\"dataframe\">\n",
       "  <thead>\n",
       "    <tr style=\"text-align: right;\">\n",
       "      <th></th>\n",
       "      <th>Vertical Velocity (cm/s)</th>\n",
       "      <th>Specific Humidity (g/kg)</th>\n",
       "    </tr>\n",
       "    <tr>\n",
       "      <th>Time (secs)</th>\n",
       "      <th></th>\n",
       "      <th></th>\n",
       "    </tr>\n",
       "  </thead>\n",
       "  <tbody>\n",
       "    <tr>\n",
       "      <th>0.1</th>\n",
       "      <td>-1</td>\n",
       "      <td>8</td>\n",
       "    </tr>\n",
       "    <tr>\n",
       "      <th>0.2</th>\n",
       "      <td>-2</td>\n",
       "      <td>10</td>\n",
       "    </tr>\n",
       "    <tr>\n",
       "      <th>0.3</th>\n",
       "      <td>-1</td>\n",
       "      <td>9</td>\n",
       "    </tr>\n",
       "    <tr>\n",
       "      <th>0.4</th>\n",
       "      <td>-4</td>\n",
       "      <td>8</td>\n",
       "    </tr>\n",
       "    <tr>\n",
       "      <th>0.5</th>\n",
       "      <td>-2</td>\n",
       "      <td>11</td>\n",
       "    </tr>\n",
       "  </tbody>\n",
       "</table>\n",
       "</div>"
      ],
      "text/plain": [
       "             Vertical Velocity (cm/s)  Specific Humidity (g/kg)\n",
       "Time (secs)                                                    \n",
       "0.1                                -1                         8\n",
       "0.2                                -2                        10\n",
       "0.3                                -1                         9\n",
       "0.4                                -4                         8\n",
       "0.5                                -2                        11"
      ]
     },
     "execution_count": 3,
     "metadata": {},
     "output_type": "execute_result"
    }
   ],
   "source": [
    "# Print out first few rows of data to check \n",
    "data.head()"
   ]
  },
  {
   "cell_type": "code",
   "execution_count": 5,
   "id": "808ead1b",
   "metadata": {},
   "outputs": [],
   "source": [
    "# Calculate mean for each column \n",
    "w_mean = data['Vertical Velocity (cm/s)'].mean()\n",
    "q_mean = data['Specific Humidity (g/kg)'].mean()"
   ]
  },
  {
   "cell_type": "code",
   "execution_count": 10,
   "id": "019b0626",
   "metadata": {},
   "outputs": [],
   "source": [
    "# Calculate anomalies \n",
    "w_dash = data['Vertical Velocity (cm/s)'] - w_mean\n",
    "q_dash = data['Specific Humidity (g/kg)'] - q_mean"
   ]
  },
  {
   "cell_type": "code",
   "execution_count": null,
   "id": "24f89258",
   "metadata": {},
   "outputs": [],
   "source": [
    "# Define constants (double star is power)\n",
    "rho = 1.28\n",
    "L = 2.5 * 10**6"
   ]
  },
  {
   "cell_type": "code",
   "execution_count": 15,
   "id": "f453278d",
   "metadata": {},
   "outputs": [],
   "source": [
    "# Calculate flux\n",
    "wq_dash = w_dash * q_dash\n",
    "wq_bar = wq_dash.mean()\n",
    "\n",
    "F = rho*L*wq_bar*10**(-5) # 10^-5 at end coverts units from cm s^-1 g kg^-1 to m s^-1 kg kg^-1"
   ]
  },
  {
   "cell_type": "code",
   "execution_count": 26,
   "id": "53a17628",
   "metadata": {},
   "outputs": [
    {
     "name": "stdout",
     "output_type": "stream",
     "text": [
      "94.00000000000001\n"
     ]
    }
   ],
   "source": [
    "# Show answer \n",
    "print(F)"
   ]
  },
  {
   "cell_type": "code",
   "execution_count": null,
   "id": "79094b46",
   "metadata": {},
   "outputs": [],
   "source": []
  }
 ],
 "metadata": {
  "kernelspec": {
   "display_name": "Python 3 (ipykernel)",
   "language": "python",
   "name": "python3"
  },
  "language_info": {
   "codemirror_mode": {
    "name": "ipython",
    "version": 3
   },
   "file_extension": ".py",
   "mimetype": "text/x-python",
   "name": "python",
   "nbconvert_exporter": "python",
   "pygments_lexer": "ipython3",
   "version": "3.9.12"
  }
 },
 "nbformat": 4,
 "nbformat_minor": 5
}
